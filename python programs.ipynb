{
  "nbformat": 4,
  "nbformat_minor": 0,
  "metadata": {
    "colab": {
      "name": "Untitled3.ipynb",
      "provenance": []
    },
    "kernelspec": {
      "name": "python3",
      "display_name": "Python 3"
    },
    "language_info": {
      "name": "python"
    }
  },
  "cells": [
    {
      "cell_type": "code",
      "source": [
        "total_element=0\n",
        "lst = []\n",
        "for i in range (4):\n",
        "     val=int(input(\"Enter an integer : \"))\n",
        "     lst.append(val)\n",
        "total_elements = sum(lst)\n",
        "print(\"Sum of all elements in given list: \", total_elements)"
      ],
      "metadata": {
        "colab": {
          "base_uri": "https://localhost:8080/"
        },
        "id": "0pobakdL2_mN",
        "outputId": "fe58e7bd-ad2f-4d3c-9805-8f9b29f96632"
      },
      "execution_count": null,
      "outputs": [
        {
          "output_type": "stream",
          "name": "stdout",
          "text": [
            "Enter an integer : 65\n",
            "Enter an integer : 8\n",
            "Enter an integer : 63\n",
            "Enter an integer : 3\n",
            "Sum of all elements in given list:  139\n"
          ]
        }
      ]
    },
    {
      "cell_type": "code",
      "execution_count": null,
      "metadata": {
        "colab": {
          "base_uri": "https://localhost:8080/"
        },
        "id": "nwLnFYff2hCv",
        "outputId": "d6b563e9-9cc3-4a92-cf95-26a4bdfcb440"
      },
      "outputs": [
        {
          "output_type": "stream",
          "name": "stdout",
          "text": [
            "Enter an integer : 5\n",
            "Enter an integer : 98\n",
            "Enter an integer : 2\n",
            "Enter an integer : 9\n",
            "Original List :  [5, 98, 2, 9]\n",
            "Odd values in a list :  [5, 9]\n"
          ]
        }
      ],
      "source": [
        "lst = []\n",
        "lst2 = []\n",
        "for i in range (4):\n",
        "     val=int(input(\"Enter an integer : \"))\n",
        "     lst.append(val)\n",
        "print(\"Original List : \",lst)\n",
        "for i in lst:\n",
        "    if i%2!=0:\n",
        "        a=i\n",
        "        lst2.append(a)\n",
        "print(\"Odd values in a list : \",lst2)"
      ]
    },
    {
      "cell_type": "code",
      "source": [
        "lst = []\n",
        "for i in range (4):\n",
        "     val=int(input(\"Enter an integer : \"))\n",
        "     lst.append(val)\n",
        "print(\"Original List : \",lst)\n",
        "lst.reverse()\n",
        "print(\"Reversed List : \",lst)\n",
        "lst=lst[::-1]\n",
        "print(\"Again Reversed List : \",lst)"
      ],
      "metadata": {
        "colab": {
          "base_uri": "https://localhost:8080/"
        },
        "id": "lnngbdHQ3SpG",
        "outputId": "b6914bb0-cb6e-4f6f-ec4b-63e0bde58864"
      },
      "execution_count": null,
      "outputs": [
        {
          "output_type": "stream",
          "name": "stdout",
          "text": [
            "Enter an integer : 23\n",
            "Enter an integer : 24\n",
            "Enter an integer : 25\n",
            "Enter an integer : 26\n",
            "Original List :  [23, 24, 25, 26]\n",
            "Reversed List :  [26, 25, 24, 23]\n",
            "Again Reversed List :  [23, 24, 25, 26]\n"
          ]
        }
      ]
    },
    {
      "cell_type": "code",
      "source": [
        "lst = []\n",
        "for i in range (5):\n",
        "     val=int(input(\"Enter an integer : \"))\n",
        "     lst.append(val)\n",
        "print(\"List : \",lst)\n",
        "lst.sort()\n",
        "print(\"The top two maximum numbers in a List : \",lst[-1],\"and\",lst[-2])"
      ],
      "metadata": {
        "colab": {
          "base_uri": "https://localhost:8080/"
        },
        "id": "ygHPNhh74u_P",
        "outputId": "8e4d6403-7de3-4891-fdae-27732ff09d89"
      },
      "execution_count": null,
      "outputs": [
        {
          "output_type": "stream",
          "name": "stdout",
          "text": [
            "Enter an integer : 24\n",
            "Enter an integer : 98\n",
            "Enter an integer : 89\n",
            "Enter an integer : 56\n",
            "Enter an integer : 62\n",
            "List :  [24, 98, 89, 56, 62]\n",
            "The top two maximum numbers in a List :  98 and 89\n"
          ]
        }
      ]
    },
    {
      "cell_type": "code",
      "source": [
        "lst = []\n",
        "for i in range (5):\n",
        "     val=int(input(\"Enter an integer : \"))\n",
        "     lst.append(val)\n",
        "print(lst)\n",
        "lst.sort()\n",
        "print(\"Second Highest Number in a List : \",lst[-2])"
      ],
      "metadata": {
        "colab": {
          "base_uri": "https://localhost:8080/"
        },
        "id": "SSqY42Tu5pnu",
        "outputId": "855dc5b1-5677-45a0-a359-e69ba2acbb8e"
      },
      "execution_count": null,
      "outputs": [
        {
          "output_type": "stream",
          "name": "stdout",
          "text": [
            "Enter an integer : 54\n",
            "Enter an integer : 98\n",
            "Enter an integer : 35\n",
            "Enter an integer : 17\n",
            "Enter an integer : 565\n",
            "[54, 98, 35, 17, 565]\n",
            "Second Highest Number in a List :  98\n"
          ]
        }
      ]
    },
    {
      "cell_type": "code",
      "source": [
        "lst = []\n",
        "for i in range (4):\n",
        "     val=(input(\"Enter any character : \"))\n",
        "     lst.append(val)\n",
        "lst.sort(reverse=True)\n",
        "print(\"Characters In Descending Orders : \",lst)"
      ],
      "metadata": {
        "colab": {
          "base_uri": "https://localhost:8080/"
        },
        "id": "T1n4mFgY504D",
        "outputId": "86fa26b4-aa3b-4e04-c361-6f029760fefa"
      },
      "execution_count": null,
      "outputs": [
        {
          "output_type": "stream",
          "name": "stdout",
          "text": [
            "Enter any character : a\n",
            "Enter any character : b\n",
            "Enter any character : c\n",
            "Enter any character : d\n",
            "Characters In Descending Orders :  ['d', 'c', 'b', 'a']\n"
          ]
        }
      ]
    },
    {
      "cell_type": "code",
      "source": [
        "str = input(\"Enter Your Name : \")\n",
        "lst = []\n",
        "for i in range(len(str)):\n",
        "    lst.append(str[i])\n",
        "lst2 = []\n",
        "j = 0\n",
        "for i in range(len(lst)):\n",
        "    if str[i] not in lst2:\n",
        "        lst2.insert(j, str[i])\n",
        "        j = j+1\n",
        "print(\"Original Name : \", str)\n",
        "str = \"\"\n",
        "str = str.join(lst2)\n",
        "print(\"After Removing Repeated Characters : \", str)"
      ],
      "metadata": {
        "colab": {
          "base_uri": "https://localhost:8080/"
        },
        "id": "ejf7iHXW6MMV",
        "outputId": "88daff14-8a5f-412c-8116-9dd99ad8c874"
      },
      "execution_count": null,
      "outputs": [
        {
          "output_type": "stream",
          "name": "stdout",
          "text": [
            "Enter Your Name : Muhammad Ahmed Khan\n",
            "Original Name :  Muhammad Ahmed Khan\n",
            "After Removing Repeated Characters :  Muhamd AeKn\n"
          ]
        }
      ]
    },
    {
      "cell_type": "code",
      "source": [
        "char = input(\"Enter a Character : \")\n",
        "if char in ('a', 'e', 'i', 'o', 'u'):\n",
        "    print(char,\" is a vowel.\")\n",
        "else:\n",
        "    print(char,\" is a consonant.\") \n"
      ],
      "metadata": {
        "colab": {
          "base_uri": "https://localhost:8080/"
        },
        "id": "3MQe4fUY6cCN",
        "outputId": "455e9dda-d424-4825-c540-3b5f2f725b00"
      },
      "execution_count": null,
      "outputs": [
        {
          "output_type": "stream",
          "name": "stdout",
          "text": [
            "Enter a Character : a\n",
            "a  is a vowel.\n"
          ]
        }
      ]
    },
    {
      "cell_type": "code",
      "source": [
        "num = int(input(\"Enter a number: \"))\n",
        "fact = 1\n",
        "\n",
        "if num < 0:\n",
        "   print(\"Factorial does not exist for negative numbers\")\n",
        "elif num == 0:\n",
        "   print(\"The factorial of 0 is 1\")\n",
        "else:\n",
        "   for i in range(1,num + 1):\n",
        "       fact=fact*i\n",
        "   print(\"The factorial of\",num,\"is\",fact)\n"
      ],
      "metadata": {
        "colab": {
          "base_uri": "https://localhost:8080/"
        },
        "id": "W9CzhfuY6i2m",
        "outputId": "8a90935b-4429-4622-f862-da29dfb0c37c"
      },
      "execution_count": null,
      "outputs": [
        {
          "output_type": "stream",
          "name": "stdout",
          "text": [
            "Enter a number: 5\n",
            "The factorial of 5 is 120\n"
          ]
        }
      ]
    },
    {
      "cell_type": "code",
      "source": [
        "lst1 = []\n",
        "for i in range (5):\n",
        "     val=int(input(\"Enter an integer : \"))\n",
        "     lst1.append(val)\n",
        "lst2 = []\n",
        "for i in range (5):\n",
        "     val=int(input(\"Enter an integer : \"))\n",
        "     lst2.append(val)\n",
        "print(\"List 1 : \",lst1)\n",
        "print(\"List 2: \",lst2)\n",
        "\n",
        "for i in lst2 :\n",
        "    lst1.append(i)\n",
        "print (\"After Merging : \" ,lst1)\n"
      ],
      "metadata": {
        "colab": {
          "base_uri": "https://localhost:8080/"
        },
        "id": "_a13mIKK6r4O",
        "outputId": "dcda28dd-2b3f-42ca-93c8-a7b51f6ddeb1"
      },
      "execution_count": 2,
      "outputs": [
        {
          "output_type": "stream",
          "name": "stdout",
          "text": [
            "Enter an integer : 1\n",
            "Enter an integer : 2\n",
            "Enter an integer : 3\n",
            "Enter an integer : 4\n",
            "Enter an integer : 5\n",
            "Enter an integer : 6\n",
            "Enter an integer : 7\n",
            "Enter an integer : 8\n",
            "Enter an integer : 9\n",
            "Enter an integer : 10\n",
            "List 1 :  [1, 2, 3, 4, 5]\n",
            "List 2:  [6, 7, 8, 9, 10]\n",
            "After Merging :  [1, 2, 3, 4, 5, 6, 7, 8, 9, 10]\n"
          ]
        }
      ]
    }
  ]
}