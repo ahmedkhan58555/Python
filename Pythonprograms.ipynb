{
  "nbformat": 4,
  "nbformat_minor": 0,
  "metadata": {
    "colab": {
      "name": "Untitled3.ipynb",
      "provenance": []
    },
    "kernelspec": {
      "name": "python3",
      "display_name": "Python 3"
    },
    "language_info": {
      "name": "python"
    }
  },
  "cells": [
    {
      "cell_type": "code",
      "source": [
        "lst = []\n",
        "lst2 = []\n",
        "for i in range (4):\n",
        "     val=int(input(\"Enter an integer : \"))\n",
        "     lst.append(val)\n",
        "print(\"Original List : \",lst)\n",
        "for i in lst:\n",
        "    if i%2!=0:\n",
        "        a=i\n",
        "        lst2.append(a)\n",
        "print(\"Odd values in a list : \",lst2)"
      ],
      "metadata": {
        "colab": {
          "base_uri": "https://localhost:8080/"
        },
        "id": "0pobakdL2_mN",
        "outputId": "240dd02c-ccbc-4025-81b7-6257c65ebd51"
      },
      "execution_count": 1,
      "outputs": [
        {
          "output_type": "stream",
          "name": "stdout",
          "text": [
            "Enter an integer : 45\n",
            "Enter an integer : 6\n",
            "Enter an integer : 156\n",
            "Enter an integer : 89\n",
            "Original List :  [45, 6, 156, 89]\n",
            "Odd values in a list :  [45, 89]\n"
          ]
        }
      ]
    },
    {
      "cell_type": "code",
      "execution_count": 2,
      "metadata": {
        "colab": {
          "base_uri": "https://localhost:8080/"
        },
        "id": "nwLnFYff2hCv",
        "outputId": "fe05ce55-89b6-4808-d1fe-feeaa558864f"
      },
      "outputs": [
        {
          "output_type": "stream",
          "name": "stdout",
          "text": [
            "Enter an integer : 21\n",
            "Enter an integer : 12\n",
            "Enter an integer : 54\n",
            "Enter an integer : 87\n",
            "Sum of all elements in given list:  174\n"
          ]
        }
      ],
      "source": [
        "total_element=0\n",
        "lst = []\n",
        "for i in range (4):\n",
        "     val=int(input(\"Enter an integer : \"))\n",
        "     lst.append(val)\n",
        "total_elements = sum(lst)\n",
        "print(\"Sum of all elements in given list: \", total_elements)"
      ]
    },
    {
      "cell_type": "code",
      "source": [
        "lst = []\n",
        "for i in range (4):\n",
        "     val=int(input(\"Enter an integer : \"))\n",
        "     lst.append(val)\n",
        "print(\"Original List : \",lst)\n",
        "lst.reverse()\n",
        "print(\"Reversed List : \",lst)\n",
        "lst=lst[::-1]\n",
        "print(\"Again Reversed List : \",lst)"
      ],
      "metadata": {
        "colab": {
          "base_uri": "https://localhost:8080/"
        },
        "id": "lnngbdHQ3SpG",
        "outputId": "87e56478-dfbb-4ac3-b4ec-8401dfb05c9f"
      },
      "execution_count": 3,
      "outputs": [
        {
          "output_type": "stream",
          "name": "stdout",
          "text": [
            "Enter an integer : 1\n",
            "Enter an integer : 2\n",
            "Enter an integer : 3\n",
            "Enter an integer : 4\n",
            "Original List :  [1, 2, 3, 4]\n",
            "Reversed List :  [4, 3, 2, 1]\n",
            "Again Reversed List :  [1, 2, 3, 4]\n"
          ]
        }
      ]
    },
    {
      "cell_type": "code",
      "source": [
        "lst = []\n",
        "for i in range (5):\n",
        "     val=int(input(\"Enter an integer : \"))\n",
        "     lst.append(val)\n",
        "print(\"List : \",lst)\n",
        "lst.sort()\n",
        "print(\"The top two maximum numbers in a List : \",lst[-1],\"and\",lst[-2])"
      ],
      "metadata": {
        "colab": {
          "base_uri": "https://localhost:8080/"
        },
        "id": "ygHPNhh74u_P",
        "outputId": "b91eb6e3-58b0-4d0f-b9f8-b20f53ba6c49"
      },
      "execution_count": 4,
      "outputs": [
        {
          "output_type": "stream",
          "name": "stdout",
          "text": [
            "Enter an integer : 54\n",
            "Enter an integer : 88\n",
            "Enter an integer : 65\n",
            "Enter an integer : 27\n",
            "Enter an integer : 42\n",
            "List :  [54, 88, 65, 27, 42]\n",
            "The top two maximum numbers in a List :  88 and 65\n"
          ]
        }
      ]
    },
    {
      "cell_type": "code",
      "source": [
        "lst = []\n",
        "for i in range (5):\n",
        "     val=int(input(\"Enter an integer : \"))\n",
        "     lst.append(val)\n",
        "print(lst)\n",
        "lst.sort()\n",
        "print(\"Second Highest Number in a List : \",lst[-2])"
      ],
      "metadata": {
        "colab": {
          "base_uri": "https://localhost:8080/"
        },
        "id": "SSqY42Tu5pnu",
        "outputId": "a0ea3b90-19df-4d9e-9979-7be4c6534c96"
      },
      "execution_count": 5,
      "outputs": [
        {
          "output_type": "stream",
          "name": "stdout",
          "text": [
            "Enter an integer : 98\n",
            "Enter an integer : 145\n",
            "Enter an integer : 331\n",
            "Enter an integer : 17\n",
            "Enter an integer : 63\n",
            "[98, 145, 331, 17, 63]\n",
            "Second Highest Number in a List :  145\n"
          ]
        }
      ]
    },
    {
      "cell_type": "code",
      "source": [
        "lst = []\n",
        "for i in range (4):\n",
        "     val=(input(\"Enter any character : \"))\n",
        "     lst.append(val)\n",
        "lst.sort(reverse=True)\n",
        "print(\"Characters In Descending Orders : \",lst)"
      ],
      "metadata": {
        "colab": {
          "base_uri": "https://localhost:8080/"
        },
        "id": "T1n4mFgY504D",
        "outputId": "ee8e8a51-5474-4bea-c71a-8e593f5c24bd"
      },
      "execution_count": 6,
      "outputs": [
        {
          "output_type": "stream",
          "name": "stdout",
          "text": [
            "Enter any character : a\n",
            "Enter any character : b\n",
            "Enter any character : c\n",
            "Enter any character : d\n",
            "Characters In Descending Orders :  ['d', 'c', 'b', 'a']\n"
          ]
        }
      ]
    },
    {
      "cell_type": "code",
      "source": [
        "str = input(\"Enter Your Name : \")\n",
        "lst = []\n",
        "for i in range(len(str)):\n",
        "    lst.append(str[i])\n",
        "lst2 = []\n",
        "j = 0\n",
        "for i in range(len(lst)):\n",
        "    if str[i] not in lst2:\n",
        "        lst2.insert(j, str[i])\n",
        "        j = j+1\n",
        "print(\"Original Name : \", str)\n",
        "str = \"\"\n",
        "str = str.join(lst2)\n",
        "print(\"After Removing Repeated Characters : \", str)"
      ],
      "metadata": {
        "colab": {
          "base_uri": "https://localhost:8080/"
        },
        "id": "ejf7iHXW6MMV",
        "outputId": "ed52402d-2861-4c11-e363-2d8344e4a41d"
      },
      "execution_count": 7,
      "outputs": [
        {
          "output_type": "stream",
          "name": "stdout",
          "text": [
            "Enter Your Name : Muhammad Ahmed Khan\n",
            "Original Name :  Muhammad Ahmed Khan\n",
            "After Removing Repeated Characters :  Muhamd AeKn\n"
          ]
        }
      ]
    },
    {
      "cell_type": "code",
      "source": [
        "char = input(\"Enter a Character : \")\n",
        "if char in ('a', 'e', 'i', 'o', 'u'):\n",
        "    print(char,\" is a vowel.\")\n",
        "else:\n",
        "    print(char,\" is a consonant.\") \n"
      ],
      "metadata": {
        "colab": {
          "base_uri": "https://localhost:8080/"
        },
        "id": "3MQe4fUY6cCN",
        "outputId": "c7e8a547-036e-4ef9-d61e-e1d713b046bb"
      },
      "execution_count": 8,
      "outputs": [
        {
          "output_type": "stream",
          "name": "stdout",
          "text": [
            "Enter a Character : e\n",
            "e  is a vowel.\n"
          ]
        }
      ]
    },
    {
      "cell_type": "code",
      "source": [
        "num = int(input(\"Enter a number: \"))\n",
        "fact = 1\n",
        "\n",
        "if num < 0:\n",
        "   print(\"Factorial does not exist for negative numbers\")\n",
        "elif num == 0:\n",
        "   print(\"The factorial of 0 is 1\")\n",
        "else:\n",
        "   for i in range(1,num + 1):\n",
        "       fact=fact*i\n",
        "   print(\"The factorial of\",num,\"is\",fact)\n"
      ],
      "metadata": {
        "colab": {
          "base_uri": "https://localhost:8080/"
        },
        "id": "W9CzhfuY6i2m",
        "outputId": "222439a4-f392-44de-8d0c-74342ea3f4aa"
      },
      "execution_count": 9,
      "outputs": [
        {
          "output_type": "stream",
          "name": "stdout",
          "text": [
            "Enter a number: 5\n",
            "The factorial of 5 is 120\n"
          ]
        }
      ]
    },
    {
      "cell_type": "code",
      "source": [
        "lst1 = []\n",
        "for i in range (5):\n",
        "     val=int(input(\"Enter an integer : \"))\n",
        "     lst1.append(val)\n",
        "lst2 = []\n",
        "for i in range (5):\n",
        "     val=int(input(\"Enter an integer : \"))\n",
        "     lst2.append(val)\n",
        "print(\"List 1 : \",lst1)\n",
        "print(\"List 2: \",lst2)\n",
        "\n",
        "for i in lst2 :\n",
        "    lst1.append(i)\n",
        "print (\"After Merging : \" ,lst1)\n"
      ],
      "metadata": {
        "colab": {
          "base_uri": "https://localhost:8080/"
        },
        "id": "_a13mIKK6r4O",
        "outputId": "c0989adb-20fb-4057-bb27-153c0e28fc16"
      },
      "execution_count": 10,
      "outputs": [
        {
          "output_type": "stream",
          "name": "stdout",
          "text": [
            "Enter an integer : 1\n",
            "Enter an integer : 2\n",
            "Enter an integer : 3\n",
            "Enter an integer : 4\n",
            "Enter an integer : 5\n",
            "Enter an integer : 6\n",
            "Enter an integer : 7\n",
            "Enter an integer : 8\n",
            "Enter an integer : 9\n",
            "Enter an integer : 10\n",
            "List 1 :  [1, 2, 3, 4, 5]\n",
            "List 2:  [6, 7, 8, 9, 10]\n",
            "After Merging :  [1, 2, 3, 4, 5, 6, 7, 8, 9, 10]\n"
          ]
        }
      ]
    }
  ]
}