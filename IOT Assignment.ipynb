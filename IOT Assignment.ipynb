{
  "nbformat": 4,
  "nbformat_minor": 0,
  "metadata": {
    "colab": {
      "name": "Untitled3.ipynb",
      "provenance": []
    },
    "kernelspec": {
      "name": "python3",
      "display_name": "Python 3"
    },
    "language_info": {
      "name": "python"
    }
  },
  "cells": [
    {
      "cell_type": "code",
      "execution_count": 1,
      "metadata": {
        "colab": {
          "base_uri": "https://localhost:8080/"
        },
        "id": "NCZSgkRnuCli",
        "outputId": "799cb853-f069-4e65-be1f-917088479f0c"
      },
      "outputs": [
        {
          "output_type": "stream",
          "name": "stdout",
          "text": [
            "Reversed Number: 4321\n",
            "Enter an integrr : 21854\n",
            "45812\n"
          ]
        }
      ],
      "source": [
        "num = 1234\n",
        "reversed_num = 0\n",
        "\n",
        "while num != 0:\n",
        "    digit = num % 10\n",
        "    reversed_num = reversed_num * 10 + digit\n",
        "    num //= 10\n",
        "\n",
        "print(\"Reversed Number: \" + str(reversed_num))\n",
        "\n",
        "#or\n",
        "\n",
        "num =input(\"Enter an integrr : \")\n",
        "print(num[::-1])"
      ]
    },
    {
      "cell_type": "code",
      "source": [
        "num = int(input(\"Enter a number: \"))\n",
        "\n",
        "sum = 0\n",
        "temp = num\n",
        "while temp > 0:\n",
        "   digit = temp % 10\n",
        "   sum += digit ** 3\n",
        "   temp //= 10\n",
        "\n",
        "if num == sum:\n",
        "   print(num,\"is an Armstrong number\")\n",
        "else:\n",
        "   print(num,\"is not an Armstrong number\")"
      ],
      "metadata": {
        "colab": {
          "base_uri": "https://localhost:8080/"
        },
        "id": "v9dXNzLsuLdx",
        "outputId": "a50ef71e-6144-4001-e177-ead61f77548b"
      },
      "execution_count": 2,
      "outputs": [
        {
          "output_type": "stream",
          "name": "stdout",
          "text": [
            "Enter a number: 022\n",
            "22 is not an Armstrong number\n"
          ]
        }
      ]
    },
    {
      "cell_type": "code",
      "source": [
        "num = int(input(\"Enter a number: \"))\n",
        "a=0\n",
        "\n",
        "if num > 1:\n",
        "    for i in range(2, num):\n",
        "        if (num % i) == 0:\n",
        "            a+=1\n",
        "            break\n",
        "\n",
        "if a==1:\n",
        "    print(num, \"is not a prime number\")\n",
        "else:\n",
        "    print(num, \"is a prime number\")\n"
      ],
      "metadata": {
        "colab": {
          "base_uri": "https://localhost:8080/"
        },
        "id": "Jdlv71KeuR_W",
        "outputId": "bea74ce7-ac69-4141-e22a-29f6be432e6d"
      },
      "execution_count": 3,
      "outputs": [
        {
          "output_type": "stream",
          "name": "stdout",
          "text": [
            "Enter a number: 151\n",
            "151 is a prime number\n"
          ]
        }
      ]
    },
    {
      "cell_type": "code",
      "source": [
        "first,second=0,1\n",
        "n = int(input(\"please give a number for fibonacci series : \"))\n",
        "print(\"fibonacci series are : \")\n",
        "for i in range(0,n):\n",
        "    if i<=1:\n",
        "        result=i\n",
        "    else:\n",
        "      result = first + second;\n",
        "      first = second;\n",
        "      second = result;\n",
        "    print(result)"
      ],
      "metadata": {
        "colab": {
          "base_uri": "https://localhost:8080/"
        },
        "id": "kp2MgvAXuXNN",
        "outputId": "97770126-98e1-45b3-a500-404073671a62"
      },
      "execution_count": 4,
      "outputs": [
        {
          "output_type": "stream",
          "name": "stdout",
          "text": [
            "please give a number for fibonacci series : 22\n",
            "fibonacci series are : \n",
            "0\n",
            "1\n",
            "1\n",
            "2\n",
            "3\n",
            "5\n",
            "8\n",
            "13\n",
            "21\n",
            "34\n",
            "55\n",
            "89\n",
            "144\n",
            "233\n",
            "377\n",
            "610\n",
            "987\n",
            "1597\n",
            "2584\n",
            "4181\n",
            "6765\n",
            "10946\n"
          ]
        }
      ]
    },
    {
      "cell_type": "code",
      "source": [
        "n = int(input(\"please give a number : \"))\n",
        "reverse = 0\n",
        "temp=n\n",
        "while temp!=0:\n",
        "    reverse = reverse*10 + temp%10;        \n",
        "    temp=temp//10;\n",
        "if reverse==n:\n",
        "    print(n,\"number is palindrome\")\n",
        "else:\n",
        "    print(n,\"number is not palindrome\")\n",
        "  "
      ],
      "metadata": {
        "colab": {
          "base_uri": "https://localhost:8080/"
        },
        "id": "NINzWDpqudlG",
        "outputId": "bf1da2df-8a3c-4098-83ec-2fc9f88231c3"
      },
      "execution_count": 5,
      "outputs": [
        {
          "output_type": "stream",
          "name": "stdout",
          "text": [
            "please give a number : 255\n",
            "255 number is not palindrome\n"
          ]
        }
      ]
    },
    {
      "cell_type": "code",
      "source": [
        "num1 = int(input(\"Enter first number: \"))\n",
        "num2 = int(input(\"Enter second number: \"))\n",
        "num3 = int(input(\"Enter third number: \"))\n",
        "\n",
        "if (num1 >= num2) and (num1 >= num3):\n",
        "   largest = num1\n",
        "elif (num2 >= num1) and (num2 >= num3):\n",
        "   largest = num2\n",
        "else:\n",
        "   largest = num3\n",
        "\n",
        "print(\"The largest number is\", largest)"
      ],
      "metadata": {
        "colab": {
          "base_uri": "https://localhost:8080/"
        },
        "id": "ikAtlC9juj9s",
        "outputId": "e0d2de99-8d13-46b1-8b82-14d3f526306a"
      },
      "execution_count": 6,
      "outputs": [
        {
          "output_type": "stream",
          "name": "stdout",
          "text": [
            "Enter first number: 152\n",
            "Enter second number: 33\n",
            "Enter third number: 02\n",
            "The largest number is 152\n"
          ]
        }
      ]
    },
    {
      "cell_type": "code",
      "source": [
        "num = int(input(\"please give a number : \"))\n",
        "while(num>0):\n",
        "    j=num%10\n",
        "    if j!=0 and j!=1:\n",
        "        print(\"num is not binary\")\n",
        "        break\n",
        "    num=num//10\n",
        "    if num==0:\n",
        "        print(\"num is binary\")"
      ],
      "metadata": {
        "colab": {
          "base_uri": "https://localhost:8080/"
        },
        "id": "MJgIclgVwo4f",
        "outputId": "e4fa50bb-7816-4c4e-8dd5-1aa0e7550a9a"
      },
      "execution_count": 7,
      "outputs": [
        {
          "output_type": "stream",
          "name": "stdout",
          "text": [
            "please give a number : 2\n",
            "num is not binary\n"
          ]
        }
      ]
    },
    {
      "cell_type": "code",
      "source": [
        "n=int(input(\"Enter a number:\"))\n",
        "sum=0\n",
        "while(n>0):\n",
        "    dig=n%10\n",
        "    sum=sum+dig\n",
        "    n=n//10\n",
        "print(\"The total sum of digits is:\",sum)"
      ],
      "metadata": {
        "colab": {
          "base_uri": "https://localhost:8080/"
        },
        "id": "8JfQY7Evw0-t",
        "outputId": "437f5795-7ce9-4dd4-b322-0a56fc6dc83f"
      },
      "execution_count": 8,
      "outputs": [
        {
          "output_type": "stream",
          "name": "stdout",
          "text": [
            "Enter a number:5565\n",
            "The total sum of digits is: 21\n"
          ]
        }
      ]
    },
    {
      "cell_type": "code",
      "source": [
        "x = int(input(\"Enter integer x: \"))\n",
        "y = int(input(\"Enter integer y: \"))\n",
        "x, y = y, x\n",
        "print(\"x =\", x)\n",
        "print(\"y =\", y)"
      ],
      "metadata": {
        "colab": {
          "base_uri": "https://localhost:8080/"
        },
        "id": "z9agTTZUw9zU",
        "outputId": "643ecf29-9754-4f27-da88-347b1c3dd88c"
      },
      "execution_count": 9,
      "outputs": [
        {
          "output_type": "stream",
          "name": "stdout",
          "text": [
            "Enter integer x: 2\n",
            "Enter integer y: 3\n",
            "x = 3\n",
            "y = 2\n"
          ]
        }
      ]
    },
    {
      "cell_type": "code",
      "source": [
        "a = int(input(\"please give first number a: \"))\n",
        "b = int(input(\"please give second number b: \"))\n",
        "c_thirdvar=a\n",
        "a=b\n",
        "b= c_thirdvar\n",
        "print(\"After swapping\")\n",
        "print(\"value of a is : \", a);\n",
        "print(\"value of b is : \", b);"
      ],
      "metadata": {
        "colab": {
          "base_uri": "https://localhost:8080/"
        },
        "id": "AeOp-WgPxARE",
        "outputId": "71374ec0-b36a-4b90-d66f-2e583b0e6623"
      },
      "execution_count": 10,
      "outputs": [
        {
          "output_type": "stream",
          "name": "stdout",
          "text": [
            "please give first number a: 5\n",
            "please give second number b: 6\n",
            "After swapping\n",
            "value of a is :  6\n",
            "value of b is :  5\n"
          ]
        }
      ]
    },
    {
      "cell_type": "code",
      "source": [
        "num1 = 10\n",
        "num2 = 20\n",
        "\n",
        "avg = (num1 + num2) / 2\n",
        "print('The average of numbers = %0.2f' %avg)"
      ],
      "metadata": {
        "colab": {
          "base_uri": "https://localhost:8080/"
        },
        "id": "UrRr7PIhxAxe",
        "outputId": "9a64ce92-7c9b-400e-9147-52bddb6ada1c"
      },
      "execution_count": 11,
      "outputs": [
        {
          "output_type": "stream",
          "name": "stdout",
          "text": [
            "The average of numbers = 15.00\n"
          ]
        }
      ]
    },
    {
      "cell_type": "code",
      "source": [
        "num=int(input( \"Enter any integer: \"))\n",
        "factorial = 1\n",
        "for i in range(1,num + 1):\n",
        "  factorial = factorial*i\n",
        "print(\"Factorial of\",num,\"is\",factorial)"
      ],
      "metadata": {
        "colab": {
          "base_uri": "https://localhost:8080/"
        },
        "id": "VmLSk-uZxDxe",
        "outputId": "347cfcca-4b25-4a12-8bc2-367969af56ec"
      },
      "execution_count": 12,
      "outputs": [
        {
          "output_type": "stream",
          "name": "stdout",
          "text": [
            "Enter any integer: 2\n",
            "Factorial of 2 is 2\n"
          ]
        }
      ]
    },
    {
      "cell_type": "code",
      "source": [
        "num = 3\n",
        "factorial = 1\n",
        "if num < 0:\n",
        "   print(\"Sorry, factorial does not exist for negative numbers\")\n",
        "elif num == 0:\n",
        "   print(\"The factorial of 0 is 1\")\n",
        "else:\n",
        "   for i in range(1,num + 1):\n",
        "       factorial = factorial*i\n",
        "   print(\"The factorial of\",num,\"is\",factorial)"
      ],
      "metadata": {
        "colab": {
          "base_uri": "https://localhost:8080/"
        },
        "id": "ysoDILtkxGIV",
        "outputId": "158e5c0e-7803-4eb2-cda6-9e02154a6411"
      },
      "execution_count": 13,
      "outputs": [
        {
          "output_type": "stream",
          "name": "stdout",
          "text": [
            "The factorial of 3 is 6\n"
          ]
        }
      ]
    },
    {
      "cell_type": "code",
      "source": [
        "ip = int(input( \"Enter any number: \"))\n",
        "if ip %2 == 0:\n",
        "  print(\"even\")\n",
        "else:\n",
        "  print(\"odd\")"
      ],
      "metadata": {
        "colab": {
          "base_uri": "https://localhost:8080/"
        },
        "id": "G-qgF9QAxVX2",
        "outputId": "0c9a078f-1796-492f-86e3-dc67f5ae1b0e"
      },
      "execution_count": 14,
      "outputs": [
        {
          "output_type": "stream",
          "name": "stdout",
          "text": [
            "Enter any number: 254\n",
            "even\n"
          ]
        }
      ]
    },
    {
      "cell_type": "code",
      "source": [
        "num=int(input(\"Enter range:\"))\n",
        "print(\"Prime numbers:\",end=' ')\n",
        "for n in range(1,num):\n",
        "    for i in range(2,n):\n",
        "        if(n%i==0):\n",
        "            break\n",
        "    else:\n",
        "        print(n,end=' ')"
      ],
      "metadata": {
        "colab": {
          "base_uri": "https://localhost:8080/"
        },
        "id": "aTOsQGr1xV4n",
        "outputId": "5d66f8ed-d7d3-4d03-fa22-cfa9ab3760ee"
      },
      "execution_count": 15,
      "outputs": [
        {
          "output_type": "stream",
          "name": "stdout",
          "text": [
            "Enter range:6\n",
            "Prime numbers: 1 2 3 5 "
          ]
        }
      ]
    },
    {
      "cell_type": "code",
      "source": [
        "first_no = int(input(\"Enter any number : \"))\n",
        "last_no= int(input(\"Enter any number : \"))\n",
        "for n in range(first_no,last_no + 1):\n",
        "   if n > 1:\n",
        "       for i in range(2,n):\n",
        "           if (n % i) == 0:\n",
        "               break\n",
        "       else:\n",
        "           print(n)"
      ],
      "metadata": {
        "colab": {
          "base_uri": "https://localhost:8080/"
        },
        "id": "_x6BYGehxtB2",
        "outputId": "610b5449-faf9-4f57-c7fa-f05131eb4dff"
      },
      "execution_count": 28,
      "outputs": [
        {
          "output_type": "stream",
          "name": "stdout",
          "text": [
            "Enter any number : 34\n",
            "Enter any number : 45\n",
            "37\n",
            "41\n",
            "43\n"
          ]
        }
      ]
    },
    {
      "cell_type": "code",
      "source": [
        "num1=int(input(\"Enter the first number: \")) \n",
        "num2=int(input(\"Enter the second number: \"))\n",
        "num3=int(input(\"Enter the third number: \"))\n",
        "if(num1<=num2 and num1<=num3):   \n",
        "  print(num1,\" is the smallest\")\n",
        "elif(num2<=num1 and num2<=num3):\n",
        "  print(num2,\" is the smallest\")\n",
        "else:\n",
        "    print(num3,\" is the smallest\")"
      ],
      "metadata": {
        "colab": {
          "base_uri": "https://localhost:8080/"
        },
        "id": "C7NncrMLx4H2",
        "outputId": "7cedd07f-4ac2-482c-c129-27393e517a24"
      },
      "execution_count": 17,
      "outputs": [
        {
          "output_type": "stream",
          "name": "stdout",
          "text": [
            "Enter the first number: 55\n",
            "Enter the second number: 45\n",
            "Enter the third number: 2\n",
            "2  is the smallest\n"
          ]
        }
      ]
    },
    {
      "cell_type": "code",
      "source": [
        "import math\n",
        "inp = int(input(\"Enter any no: \"))\n",
        "power = int(input(\"Enter power\"))\n",
        "calc = math.pow(inp,power)\n",
        "print(calc)"
      ],
      "metadata": {
        "colab": {
          "base_uri": "https://localhost:8080/"
        },
        "id": "8E53MCzfx7Pm",
        "outputId": "f80dde3d-8b36-446e-a058-d03377930849"
      },
      "execution_count": 18,
      "outputs": [
        {
          "output_type": "stream",
          "name": "stdout",
          "text": [
            "Enter any no: 25\n",
            "Enter power3\n",
            "15625.0\n"
          ]
        }
      ]
    },
    {
      "cell_type": "code",
      "source": [
        "import math\n",
        "inp = int(input(\"Enter any number: \"))\n",
        "sq = math.pow(inp , 2)\n",
        "print(\"Square of\" , inp , \"=\" , sq)"
      ],
      "metadata": {
        "colab": {
          "base_uri": "https://localhost:8080/"
        },
        "id": "DuUILSuLx-NV",
        "outputId": "7d780e7e-e708-495d-de0f-627590e3a957"
      },
      "execution_count": 19,
      "outputs": [
        {
          "output_type": "stream",
          "name": "stdout",
          "text": [
            "Enter any number: 5\n",
            "Square of 5 = 25.0\n"
          ]
        }
      ]
    },
    {
      "cell_type": "code",
      "source": [
        "import math\n",
        "inp = int(input(\"Enter any number: \"))\n",
        "no_cube = math.pow(inp , 3)\n",
        "print(\"Cube of\" , inp , \"=\" , no_cube)"
      ],
      "metadata": {
        "colab": {
          "base_uri": "https://localhost:8080/"
        },
        "id": "xlilbkwKyCc9",
        "outputId": "6ebc3c65-7a1a-4502-e862-4131d53e51e3"
      },
      "execution_count": 20,
      "outputs": [
        {
          "output_type": "stream",
          "name": "stdout",
          "text": [
            "Enter any number: 3\n",
            "Cube of 3 = 27.0\n"
          ]
        }
      ]
    },
    {
      "cell_type": "code",
      "source": [
        "import math\n",
        "inp = int(input(\"Enter any number: \"))\n",
        "no_sq = math.sqrt(inp)\n",
        "print(\"Square of\" , inp , \"=\" , no_sq)"
      ],
      "metadata": {
        "colab": {
          "base_uri": "https://localhost:8080/"
        },
        "id": "rOjhOWzEyEYu",
        "outputId": "6c8fbbe8-c21e-4793-e31e-4a7927e742ad"
      },
      "execution_count": 21,
      "outputs": [
        {
          "output_type": "stream",
          "name": "stdout",
          "text": [
            "Enter any number: 54\n",
            "Square of 54 = 7.3484692283495345\n"
          ]
        }
      ]
    },
    {
      "cell_type": "code",
      "source": [
        "number = int(input(\"Enter any decimal number: \"))\n",
        "print(\"Equivalent Binary Number: \", bin(number))"
      ],
      "metadata": {
        "colab": {
          "base_uri": "https://localhost:8080/"
        },
        "id": "RJLp8omZyG4e",
        "outputId": "6552f498-6b20-4542-b827-e15430439357"
      },
      "execution_count": 23,
      "outputs": [
        {
          "output_type": "stream",
          "name": "stdout",
          "text": [
            "Enter any decimal number: 10\n",
            "Equivalent Binary Number:  0b1010\n"
          ]
        }
      ]
    },
    {
      "cell_type": "code",
      "source": [
        "def DecimalOctal(num):\n",
        "    octal, i = 0, 1\n",
        "\n",
        "    while (num != 0):\n",
        "        rem = num % 8  \n",
        "        octal += rem * i\n",
        "        i = i*10\n",
        "        num //= 8\n",
        "     \n",
        "    print(octal)\n",
        "num = int(input('Enter a decimal number: '))\n",
        "print('Octal value: ', end='')\n",
        "DecimalOctal(num)"
      ],
      "metadata": {
        "colab": {
          "base_uri": "https://localhost:8080/"
        },
        "id": "X-Hjm2FVyNCK",
        "outputId": "0fcede75-bcc9-412c-8495-ae2839e38f08"
      },
      "execution_count": 24,
      "outputs": [
        {
          "output_type": "stream",
          "name": "stdout",
          "text": [
            "Enter a decimal number: 15\n",
            "Octal value: 17\n"
          ]
        }
      ]
    },
    {
      "cell_type": "code",
      "source": [
        "print(\"Enter the Year: \")\n",
        "ip = int(input())\n",
        "\n",
        "if ip %4==0 and y%100!=0:\n",
        "    print(\"\\nIt is a Leap Year\")\n",
        "elif ip %400==0:\n",
        "    print(\"\\nIt is a Leap Year\")\n",
        "else:\n",
        "    print(\"\\nIt is not a Leap Year\")"
      ],
      "metadata": {
        "colab": {
          "base_uri": "https://localhost:8080/"
        },
        "id": "8ZJ2h82byNzv",
        "outputId": "2476bef7-2d93-4bbc-d3f6-1dd9ad8ed8cb"
      },
      "execution_count": 25,
      "outputs": [
        {
          "output_type": "stream",
          "name": "stdout",
          "text": [
            "Enter the Year: \n",
            "20212\n",
            "\n",
            "It is a Leap Year\n"
          ]
        }
      ]
    },
    {
      "cell_type": "code",
      "source": [
        "celsius = float(input(\"Enter temperature in celsius: \"))\n",
        "fahrenheit = (celsius * 9/5) + 32\n",
        "print('%.2f Celsius is: %0.2f Fahrenheit' %(celsius, fahrenheit))"
      ],
      "metadata": {
        "colab": {
          "base_uri": "https://localhost:8080/"
        },
        "id": "Zl6wNqDDyQq-",
        "outputId": "ef9f307d-48f9-49ac-ad0b-d18d5a9d9f4e"
      },
      "execution_count": 26,
      "outputs": [
        {
          "output_type": "stream",
          "name": "stdout",
          "text": [
            "Enter temperature in celsius: 25\n",
            "25.00 Celsius is: 77.00 Fahrenheit\n"
          ]
        }
      ]
    },
    {
      "cell_type": "code",
      "source": [
        "fahrenheit = float(input(\"Enter temperature in fahrenheit: \"))\n",
        "celsius = (fahrenheit - 32) * 5/9\n",
        "print('%.2f Fahrenheit is: %0.2f Celsius' %(fahrenheit, celsius))"
      ],
      "metadata": {
        "colab": {
          "base_uri": "https://localhost:8080/"
        },
        "id": "hFHm9SkMyS11",
        "outputId": "4b69aa52-d052-4037-cc83-3a7f12c510a1"
      },
      "execution_count": 27,
      "outputs": [
        {
          "output_type": "stream",
          "name": "stdout",
          "text": [
            "Enter temperature in fahrenheit: 30\n",
            "30.00 Fahrenheit is: -1.11 Celsius\n"
          ]
        }
      ]
    }
  ]
}